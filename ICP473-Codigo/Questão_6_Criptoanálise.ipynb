{
  "cells": [
    {
      "cell_type": "code",
      "execution_count": null,
      "metadata": {
        "id": "Ik-MLcXYwPxW"
      },
      "outputs": [],
      "source": [
        "strOriginal = \"53‡‡†305))6;4826)4‡.)4‡);806;48†8¶60))85;1‡(;:‡8†83(88)5†;46(;8896?;8)‡(;485);5†2:‡(;49562(5-4)8¶8;4069285);)6†8)4‡‡;1(‡9;48081;8:8‡1;48†85;4)485†528806*81(‡9;48;(88;4(‡?34;48)4‡;161;:188;‡?;\""
      ]
    },
    {
      "cell_type": "code",
      "execution_count": 2,
      "metadata": {
        "id": "vfV_ncycwVnq"
      },
      "outputs": [],
      "source": [
        "caracteres = set(strOriginal)"
      ]
    },
    {
      "cell_type": "code",
      "execution_count": 3,
      "metadata": {
        "colab": {
          "base_uri": "https://localhost:8080/"
        },
        "id": "Yx8HKrcSwnEG",
        "outputId": "17c52a92-c3e1-4c2a-c246-8f8a1011f7eb"
      },
      "outputs": [
        {
          "name": "stdout",
          "output_type": "stream",
          "text": [
            "{'-', '*', '?', '4', '1', '8', '.', '0', '¶', '3', '(', '2', '‡', '†', ':', ';', '9', '6', ')', '5'}\n"
          ]
        }
      ],
      "source": [
        "print(caracteres)"
      ]
    },
    {
      "cell_type": "code",
      "execution_count": 4,
      "metadata": {
        "id": "RJS-6b-DwWlO"
      },
      "outputs": [],
      "source": [
        "dictCaract ={}"
      ]
    },
    {
      "cell_type": "code",
      "execution_count": 5,
      "metadata": {
        "id": "JcEtcJ3gwaKO"
      },
      "outputs": [],
      "source": [
        "for ch in caracteres:\n",
        "  dictCaract[ch] = strOriginal.count(ch)"
      ]
    },
    {
      "cell_type": "code",
      "execution_count": 6,
      "metadata": {
        "colab": {
          "base_uri": "https://localhost:8080/"
        },
        "id": "pC8kUWfOwc_M",
        "outputId": "9042f031-5749-4d3a-ed21-6772ab72ae91"
      },
      "outputs": [
        {
          "name": "stdout",
          "output_type": "stream",
          "text": [
            "8 33\n",
            "; 26\n",
            "4 19\n",
            "‡ 16\n",
            ") 16\n",
            "5 12\n",
            "6 11\n",
            "( 10\n",
            "1 8\n",
            "† 8\n",
            "0 6\n",
            "2 5\n",
            "9 5\n",
            "3 4\n",
            ": 4\n",
            "? 3\n",
            "¶ 2\n",
            "- 1\n",
            "* 1\n",
            ". 1\n"
          ]
        }
      ],
      "source": [
        "for i in sorted(dictCaract, key = dictCaract.get, reverse=True):\n",
        "  print(i, dictCaract[i])"
      ]
    },
    {
      "cell_type": "markdown",
      "metadata": {
        "id": "GXw2VX6sxp6t"
      },
      "source": [
        "O caractere '8' aparece 33 vezes, seguido pelo caractere ';' (26 vezes). Em inglês, “e” é a letra mais comum, então um bom chute é considerar '8' -> 'E'.\n",
        "\n",
        "Também: O 'THE' é um artigo bastante comum na língua inglesa, de modo que as substituições ';' -> 'T', '4' -> 'H' parecem ser um bom chute."
      ]
    },
    {
      "cell_type": "code",
      "execution_count": null,
      "metadata": {
        "id": "kjqwifb5xpho"
      },
      "outputs": [],
      "source": [
        "str2= strOriginal.replace('8','E')"
      ]
    },
    {
      "cell_type": "code",
      "execution_count": null,
      "metadata": {
        "id": "5AYsvol2yHpy"
      },
      "outputs": [],
      "source": [
        "str2 = str2.replace(';','T')"
      ]
    },
    {
      "cell_type": "code",
      "execution_count": null,
      "metadata": {
        "id": "zRbONtbSyIUo"
      },
      "outputs": [],
      "source": [
        "str2 = str2.replace('4','H')"
      ]
    },
    {
      "cell_type": "code",
      "execution_count": null,
      "metadata": {
        "colab": {
          "base_uri": "https://localhost:8080/"
        },
        "id": "W_2_BgdryOTF",
        "outputId": "a8e33436-b147-45b8-f579-c2b34046c89d"
      },
      "outputs": [
        {
          "name": "stdout",
          "output_type": "stream",
          "text": [
            "53‡‡†305))6THE26)H‡.)H‡)TE06THE†E¶60))E5T1‡(T:‡E†E3(EE)5†TH6(TEE96?TE)‡(THE5)T5†2:‡(TH9562(5-H)E¶ETH0692E5)T)6†E)H‡‡T1(‡9THE0E1TE:E‡1THE†E5TH)HE5†52EE06*E1(‡9THET(EETH(‡?3HTHE)H‡T161T:1EET‡?T\n"
          ]
        }
      ],
      "source": [
        "print(str2)"
      ]
    }
  ],
  "metadata": {
    "colab": {
      "provenance": []
    },
    "kernelspec": {
      "display_name": "Python 3",
      "name": "python3"
    },
    "language_info": {
      "name": "python"
    }
  },
  "nbformat": 4,
  "nbformat_minor": 0
}
