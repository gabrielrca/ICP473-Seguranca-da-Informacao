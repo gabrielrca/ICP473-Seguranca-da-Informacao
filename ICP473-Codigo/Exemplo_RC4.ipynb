{
  "nbformat": 4,
  "nbformat_minor": 0,
  "metadata": {
    "colab": {
      "provenance": []
    },
    "kernelspec": {
      "name": "python3",
      "display_name": "Python 3"
    },
    "language_info": {
      "name": "python"
    }
  },
  "cells": [
    {
      "cell_type": "markdown",
      "source": [
        "#Exemplo RC4\n"
      ],
      "metadata": {
        "id": "ZDCy9zGnEXwK"
      }
    },
    {
      "cell_type": "code",
      "execution_count": null,
      "metadata": {
        "id": "lM0k9oulj3M0"
      },
      "outputs": [],
      "source": [
        "# Chave de 16 bits\n",
        "key = \"1010010100110100\""
      ]
    },
    {
      "cell_type": "code",
      "source": [
        "# Texto de exemplo\n",
        "plaintext = \"Teste RC4\"\n",
        "data = plaintext.encode()  # converte para bytes\n"
      ],
      "metadata": {
        "id": "3chD6OQMmsDJ"
      },
      "execution_count": null,
      "outputs": []
    },
    {
      "cell_type": "code",
      "source": [
        "#para descriptografar\n",
        "data=bytes.fromhex(\"bdd98cc30d1f79b8c4\")"
      ],
      "metadata": {
        "id": "EjJ5iaABmxkx"
      },
      "execution_count": null,
      "outputs": []
    },
    {
      "cell_type": "code",
      "source": [
        "# Inicialização do S\n",
        "S = list(range(256))\n",
        "j = 0\n",
        "\n",
        "print(S)"
      ],
      "metadata": {
        "colab": {
          "base_uri": "https://localhost:8080/"
        },
        "id": "OQVIxWz5mzeC",
        "outputId": "4c7c9da2-1740-4452-be0a-3763ac08bfbd"
      },
      "execution_count": null,
      "outputs": [
        {
          "output_type": "stream",
          "name": "stdout",
          "text": [
            "[0, 1, 2, 3, 4, 5, 6, 7, 8, 9, 10, 11, 12, 13, 14, 15, 16, 17, 18, 19, 20, 21, 22, 23, 24, 25, 26, 27, 28, 29, 30, 31, 32, 33, 34, 35, 36, 37, 38, 39, 40, 41, 42, 43, 44, 45, 46, 47, 48, 49, 50, 51, 52, 53, 54, 55, 56, 57, 58, 59, 60, 61, 62, 63, 64, 65, 66, 67, 68, 69, 70, 71, 72, 73, 74, 75, 76, 77, 78, 79, 80, 81, 82, 83, 84, 85, 86, 87, 88, 89, 90, 91, 92, 93, 94, 95, 96, 97, 98, 99, 100, 101, 102, 103, 104, 105, 106, 107, 108, 109, 110, 111, 112, 113, 114, 115, 116, 117, 118, 119, 120, 121, 122, 123, 124, 125, 126, 127, 128, 129, 130, 131, 132, 133, 134, 135, 136, 137, 138, 139, 140, 141, 142, 143, 144, 145, 146, 147, 148, 149, 150, 151, 152, 153, 154, 155, 156, 157, 158, 159, 160, 161, 162, 163, 164, 165, 166, 167, 168, 169, 170, 171, 172, 173, 174, 175, 176, 177, 178, 179, 180, 181, 182, 183, 184, 185, 186, 187, 188, 189, 190, 191, 192, 193, 194, 195, 196, 197, 198, 199, 200, 201, 202, 203, 204, 205, 206, 207, 208, 209, 210, 211, 212, 213, 214, 215, 216, 217, 218, 219, 220, 221, 222, 223, 224, 225, 226, 227, 228, 229, 230, 231, 232, 233, 234, 235, 236, 237, 238, 239, 240, 241, 242, 243, 244, 245, 246, 247, 248, 249, 250, 251, 252, 253, 254, 255]\n"
          ]
        }
      ]
    },
    {
      "cell_type": "code",
      "source": [
        "# Escalonamento das chaves...\n",
        "key_bytes = []\n",
        "for i in range(0, len(key), 8): #loop que percorre a string da chave em blocos de 8 bits\n",
        "    byte = key[i:i+8]        # Pega 8 bits da chave a cada iteração para formar um byte\n",
        "    print(str(i) + \" \" + str(byte))\n",
        "    key_bytes.append(int(byte, 2)) # Converte os 8 bits (string binária) para um inteiro e adiciona à lista de bytes da chave\n",
        "key_length = len(key_bytes)\n",
        "\n"
      ],
      "metadata": {
        "colab": {
          "base_uri": "https://localhost:8080/"
        },
        "id": "DKfHlQmbm1Fx",
        "outputId": "d5cc2005-aed1-400c-c70f-8186001c1a97"
      },
      "execution_count": null,
      "outputs": [
        {
          "output_type": "stream",
          "name": "stdout",
          "text": [
            "0 10100101\n",
            "8 00110100\n"
          ]
        }
      ]
    },
    {
      "cell_type": "code",
      "source": [
        "#permutacao inicial (usando a key)\n",
        "print(\"antes: \" + str(S))\n",
        "for i in range(256):\n",
        "    j = (j + S[i] + key_bytes[i % key_length]) % 256\n",
        "    S[i], S[j] = S[j], S[i]\n",
        "\n",
        "print(\"depois: \" + str(S))"
      ],
      "metadata": {
        "colab": {
          "base_uri": "https://localhost:8080/"
        },
        "id": "3x21824Vm2gC",
        "outputId": "7a0caf20-dc7e-42bb-9d6a-5a9bb7872903"
      },
      "execution_count": null,
      "outputs": [
        {
          "output_type": "stream",
          "name": "stdout",
          "text": [
            "antes: [0, 1, 2, 3, 4, 5, 6, 7, 8, 9, 10, 11, 12, 13, 14, 15, 16, 17, 18, 19, 20, 21, 22, 23, 24, 25, 26, 27, 28, 29, 30, 31, 32, 33, 34, 35, 36, 37, 38, 39, 40, 41, 42, 43, 44, 45, 46, 47, 48, 49, 50, 51, 52, 53, 54, 55, 56, 57, 58, 59, 60, 61, 62, 63, 64, 65, 66, 67, 68, 69, 70, 71, 72, 73, 74, 75, 76, 77, 78, 79, 80, 81, 82, 83, 84, 85, 86, 87, 88, 89, 90, 91, 92, 93, 94, 95, 96, 97, 98, 99, 100, 101, 102, 103, 104, 105, 106, 107, 108, 109, 110, 111, 112, 113, 114, 115, 116, 117, 118, 119, 120, 121, 122, 123, 124, 125, 126, 127, 128, 129, 130, 131, 132, 133, 134, 135, 136, 137, 138, 139, 140, 141, 142, 143, 144, 145, 146, 147, 148, 149, 150, 151, 152, 153, 154, 155, 156, 157, 158, 159, 160, 161, 162, 163, 164, 165, 166, 167, 168, 169, 170, 171, 172, 173, 174, 175, 176, 177, 178, 179, 180, 181, 182, 183, 184, 185, 186, 187, 188, 189, 190, 191, 192, 193, 194, 195, 196, 197, 198, 199, 200, 201, 202, 203, 204, 205, 206, 207, 208, 209, 210, 211, 212, 213, 214, 215, 216, 217, 218, 219, 220, 221, 222, 223, 224, 225, 226, 227, 228, 229, 230, 231, 232, 233, 234, 235, 236, 237, 238, 239, 240, 241, 242, 243, 244, 245, 246, 247, 248, 249, 250, 251, 252, 253, 254, 255]\n",
            "depois: [251, 7, 129, 184, 51, 154, 236, 128, 168, 55, 93, 32, 106, 74, 253, 36, 245, 90, 101, 56, 18, 17, 16, 15, 14, 68, 44, 105, 254, 91, 125, 113, 54, 81, 222, 166, 78, 203, 150, 48, 146, 92, 234, 27, 242, 136, 19, 72, 4, 77, 189, 97, 221, 223, 195, 220, 73, 155, 208, 63, 121, 229, 200, 194, 6, 172, 71, 202, 162, 237, 103, 151, 140, 142, 177, 182, 67, 8, 65, 167, 156, 139, 47, 94, 22, 185, 42, 205, 133, 241, 58, 96, 99, 122, 219, 110, 115, 215, 153, 46, 9, 76, 10, 212, 141, 41, 34, 127, 114, 124, 49, 38, 2, 199, 64, 163, 80, 235, 12, 180, 40, 24, 50, 176, 111, 30, 75, 5, 161, 120, 248, 175, 152, 207, 138, 233, 43, 159, 206, 169, 23, 193, 226, 191, 250, 39, 190, 214, 137, 145, 239, 83, 197, 170, 217, 186, 131, 230, 21, 52, 112, 178, 53, 210, 164, 216, 249, 33, 95, 247, 84, 126, 188, 244, 240, 132, 37, 35, 57, 59, 70, 174, 66, 88, 211, 160, 224, 135, 108, 100, 255, 116, 227, 0, 147, 102, 149, 11, 243, 179, 20, 157, 123, 61, 198, 213, 26, 225, 192, 134, 231, 238, 31, 148, 183, 62, 3, 109, 13, 143, 118, 196, 82, 119, 218, 144, 252, 187, 104, 89, 173, 98, 201, 181, 204, 86, 69, 1, 29, 246, 85, 107, 60, 45, 28, 87, 158, 232, 228, 79, 171, 165, 117, 130, 25, 209]\n"
          ]
        }
      ]
    },
    {
      "cell_type": "code",
      "source": [
        "# cifrando\n",
        "i = j = 0\n",
        "ciphertext = []\n",
        "print(data)\n",
        "for char in data:\n",
        "    i = (i + 1) % 256  # incrementa i\n",
        "    j = (j + S[i]) % 256 # atualiza j\n",
        "    #print(S[i], S[j])\n",
        "    S[i], S[j] = S[j], S[i]  # troca S[i] com S[j]\n",
        "    #print(S[i], S[j])\n",
        "    K = S[(S[i] + S[j]) % 256]  # gera byte de fluxo de chave\n",
        "    print(chr(char) + \" \" + str(i) + \" \" + str(j) + \" \" + str(S[K]))\n",
        "    ciphertext.append(char ^ K)  # XOR do byte (texto claro) com a chave do fluxo\n",
        "    for lolo in ciphertext:\n",
        "      print(\"Byte:\", lolo, \"→ Char:\", chr(lolo))\n",
        "\n",
        "\n",
        "ciphertext = bytes(ciphertext)"
      ],
      "metadata": {
        "colab": {
          "base_uri": "https://localhost:8080/"
        },
        "id": "EcDmsXl4m5FX",
        "outputId": "269c5596-60f6-43cd-9de9-62834679b071"
      },
      "execution_count": null,
      "outputs": [
        {
          "output_type": "stream",
          "name": "stdout",
          "text": [
            "b'\\xbd\\xd9\\x8c\\xc3\\r\\x1fy\\xb8\\xc4'\n",
            "½ 1 7 181\n",
            "Byte: 84 → Char: T\n",
            "Ù 2 136 108\n",
            "Byte: 84 → Char: T\n",
            "Byte: 101 → Char: e\n",
            " 3 64 209\n",
            "Byte: 84 → Char: T\n",
            "Byte: 101 → Char: e\n",
            "Byte: 115 → Char: s\n",
            "Ã 4 115 88\n",
            "Byte: 84 → Char: T\n",
            "Byte: 101 → Char: e\n",
            "Byte: 115 → Char: s\n",
            "Byte: 116 → Char: t\n",
            "\r 5 13 141\n",
            "Byte: 84 → Char: T\n",
            "Byte: 101 → Char: e\n",
            "Byte: 115 → Char: s\n",
            "Byte: 116 → Char: t\n",
            "Byte: 101 → Char: e\n",
            "\u001f 6 249 194\n",
            "Byte: 84 → Char: T\n",
            "Byte: 101 → Char: e\n",
            "Byte: 115 → Char: s\n",
            "Byte: 116 → Char: t\n",
            "Byte: 101 → Char: e\n",
            "Byte: 32 → Char:  \n",
            "y 7 0 27\n",
            "Byte: 84 → Char: T\n",
            "Byte: 101 → Char: e\n",
            "Byte: 115 → Char: s\n",
            "Byte: 116 → Char: t\n",
            "Byte: 101 → Char: e\n",
            "Byte: 32 → Char:  \n",
            "Byte: 82 → Char: R\n",
            "¸ 8 168 165\n",
            "Byte: 84 → Char: T\n",
            "Byte: 101 → Char: e\n",
            "Byte: 115 → Char: s\n",
            "Byte: 116 → Char: t\n",
            "Byte: 101 → Char: e\n",
            "Byte: 32 → Char:  \n",
            "Byte: 82 → Char: R\n",
            "Byte: 67 → Char: C\n",
            "Ä 9 223 85\n",
            "Byte: 84 → Char: T\n",
            "Byte: 101 → Char: e\n",
            "Byte: 115 → Char: s\n",
            "Byte: 116 → Char: t\n",
            "Byte: 101 → Char: e\n",
            "Byte: 32 → Char:  \n",
            "Byte: 82 → Char: R\n",
            "Byte: 67 → Char: C\n",
            "Byte: 52 → Char: 4\n"
          ]
        }
      ]
    },
    {
      "cell_type": "code",
      "source": [
        "#Para cifrar\n",
        "print(\"Texto cifrado (hex):\", ciphertext.hex())\n"
      ],
      "metadata": {
        "colab": {
          "base_uri": "https://localhost:8080/"
        },
        "id": "7XDniQc5m6hz",
        "outputId": "e99a76bd-e312-442d-9701-741dc1e47d8c"
      },
      "execution_count": null,
      "outputs": [
        {
          "output_type": "stream",
          "name": "stdout",
          "text": [
            "Texto cifrado (hex): bdd98cc30d1f79b8c4\n"
          ]
        }
      ]
    },
    {
      "cell_type": "code",
      "source": [
        "#Para decifrar\n",
        "print(\"Texto decifrado:\", ciphertext)"
      ],
      "metadata": {
        "colab": {
          "base_uri": "https://localhost:8080/"
        },
        "id": "ZpM_D9Bzm9Dh",
        "outputId": "4fe59890-ae94-46a8-9df9-cb093d6bc744"
      },
      "execution_count": null,
      "outputs": [
        {
          "output_type": "stream",
          "name": "stdout",
          "text": [
            "Texto decifrado: b'Teste RC4'\n"
          ]
        }
      ]
    }
  ]
}