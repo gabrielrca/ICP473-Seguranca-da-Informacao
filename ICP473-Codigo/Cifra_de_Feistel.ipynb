{
  "nbformat": 4,
  "nbformat_minor": 0,
  "metadata": {
    "colab": {
      "provenance": []
    },
    "kernelspec": {
      "name": "python3",
      "display_name": "Python 3"
    },
    "language_info": {
      "name": "python"
    }
  },
  "cells": [
    {
      "cell_type": "code",
      "execution_count": null,
      "metadata": {
        "id": "PgT_FsjNukQ0"
      },
      "outputs": [],
      "source": [
        "# Exemplo simples de 1 rodada da cifra de Feistel\n",
        "# Bloco de 16 bits: L (8 bits) e R (8 bits)\n",
        "# Chave de 8 bits\n",
        "\n",
        "# =========================\n",
        "# Entrada dos Dados\n",
        "# =========================\n",
        "chave = 0b10101010                   # chave de 8 bits\n",
        "bloco = 0b1100110010101010           #1100110010101010           # bloco de 16 bits\n",
        "\n"
      ]
    },
    {
      "cell_type": "code",
      "source": [
        "print(f\"Bloco 16 bits (bin) : {bloco:016b}\")\n",
        "print(f\"Bloco 16 bits (hex) : {bloco:04X}\")\n",
        "print(f\"Chave 8 bits (bin)  : {chave:08b}\")\n",
        "print(f\"Chave 8 bits (hex)  : {chave:02X}\")"
      ],
      "metadata": {
        "colab": {
          "base_uri": "https://localhost:8080/"
        },
        "id": "M929rv3x1FUI",
        "outputId": "5cc28319-550a-47d4-f1da-f2c3720a29b0"
      },
      "execution_count": null,
      "outputs": [
        {
          "output_type": "stream",
          "name": "stdout",
          "text": [
            "Bloco 16 bits (bin) : 0010100010101010\n",
            "Bloco 16 bits (hex) : 28AA\n",
            "Chave 8 bits (bin)  : 11101011\n",
            "Chave 8 bits (hex)  : EB\n"
          ]
        }
      ]
    },
    {
      "cell_type": "code",
      "source": [
        "print(\"=== ENCRIPTACAO ===\")\n",
        "print(f\"Bloco original : {bloco:016b}\")\n",
        "\n",
        "# Divide o bloco em L e R\n",
        "L = (bloco >> 8) & 0xFF\n",
        "R = bloco & 0xFF\n",
        "print(f\"L0 = {L:08b}, R0 = {R:08b}\")"
      ],
      "metadata": {
        "colab": {
          "base_uri": "https://localhost:8080/"
        },
        "id": "KfTTD37A03iY",
        "outputId": "8771a6c1-2fb4-4c49-f5af-af6745c858c7"
      },
      "execution_count": null,
      "outputs": [
        {
          "output_type": "stream",
          "name": "stdout",
          "text": [
            "=== ENCRIPTACAO ===\n",
            "Bloco original : 0010100010101010\n",
            "L0 = 00101000, R0 = 10101010\n"
          ]
        }
      ]
    },
    {
      "cell_type": "code",
      "source": [
        "# Função F(R,K) = 11111111\n",
        "def funcao_F(R,K):\n",
        "  return (R * K ) & 0xFF # Isso poderia ser uma constante, como\n",
        "  #return 0xFF"
      ],
      "metadata": {
        "id": "ILsUTZxqusrv"
      },
      "execution_count": null,
      "outputs": []
    },
    {
      "cell_type": "code",
      "source": [
        "F = funcao_F(R, chave)\n",
        "print(f\"Resultado de F : {F:08b}\")"
      ],
      "metadata": {
        "colab": {
          "base_uri": "https://localhost:8080/"
        },
        "id": "IKeh_V7p6inR",
        "outputId": "0ae1d0c9-5b61-4d75-9219-a64b9a0e055b"
      },
      "execution_count": null,
      "outputs": [
        {
          "output_type": "stream",
          "name": "stdout",
          "text": [
            "Resultado de F : 00001110\n"
          ]
        }
      ]
    },
    {
      "cell_type": "code",
      "source": [
        "# 1 rodada de Feistel\n",
        "L1 = R\n",
        "R1 = L ^ F\n",
        "print(f\"L1 = {L1:08b}, R1 = {R1:08b}\")\n",
        "\n",
        "# Bloco cifrado\n",
        "cifrado = (L1 << 8) | R1\n",
        "print(f\"Bloco cifrado  : {cifrado:016b}\")\n",
        "\n"
      ],
      "metadata": {
        "colab": {
          "base_uri": "https://localhost:8080/"
        },
        "id": "QeePa5QDuu5_",
        "outputId": "6d447fd6-7f40-40dd-f52a-d54aef0f0e5e"
      },
      "execution_count": null,
      "outputs": [
        {
          "output_type": "stream",
          "name": "stdout",
          "text": [
            "L1 = 10101010, R1 = 00100110\n",
            "Bloco cifrado  : 1010101000100110\n"
          ]
        }
      ]
    },
    {
      "cell_type": "code",
      "source": [
        "# Isso aqui está para inverter as duas metades, pois eu não tenho mais nenhum round\n",
        "# Separa as metades de 8 bits\n",
        "L = (cifrado >> 8) & 0xFF\n",
        "R = cifrado & 0xFF\n",
        "\n",
        "# inverte L e R\n",
        "invertido = (R << 8) | L\n",
        "print(f\"Fim: {invertido:016b}\")"
      ],
      "metadata": {
        "colab": {
          "base_uri": "https://localhost:8080/"
        },
        "id": "jJoUhAXyzE9S",
        "outputId": "5a2c2a2b-b27e-4a79-9f1f-137d26dae199"
      },
      "execution_count": null,
      "outputs": [
        {
          "output_type": "stream",
          "name": "stdout",
          "text": [
            "Fim: 0010011010101010\n"
          ]
        }
      ]
    }
  ]
}